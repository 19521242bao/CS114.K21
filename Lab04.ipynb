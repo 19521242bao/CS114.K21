{
  "nbformat": 4,
  "nbformat_minor": 0,
  "metadata": {
    "colab": {
      "name": "Untitled0.ipynb",
      "provenance": [],
      "authorship_tag": "ABX9TyNLiS1YvmGob9HNmlGiQC9g",
      "include_colab_link": true
    },
    "kernelspec": {
      "name": "python3",
      "display_name": "Python 3"
    }
  },
  "cells": [
    {
      "cell_type": "markdown",
      "metadata": {
        "id": "view-in-github",
        "colab_type": "text"
      },
      "source": [
        "<a href=\"https://colab.research.google.com/github/thinh18521442/CS114.K21/blob/master/Untitled0.ipynb\" target=\"_parent\"><img src=\"https://colab.research.google.com/assets/colab-badge.svg\" alt=\"Open In Colab\"/></a>"
      ]
    },
    {
      "cell_type": "code",
      "metadata": {
        "id": "kw9K93jwYXGl",
        "colab_type": "code",
        "colab": {
          "base_uri": "https://localhost:8080/",
          "height": 554
        },
        "outputId": "78008ffa-1f26-4f14-d2fb-df458dc2d4a4"
      },
      "source": [
        "import requests\n",
        "\n",
        "run = True \n",
        "\n",
        "while run:\n",
        "  print(\"We have about 200.000 cities with the information about their current weather in the database \\n\")\n",
        "  city = input('Which city do you want to know: ')\n",
        "\n",
        "  try:\n",
        "    url = 'http://api.openweathermap.org/data/2.5/weather?q={}&appid=a04d860843675aebff2701a3d43d9c95&units=metric'.format(city)\n",
        "    r = requests.get(url)\n",
        "    weather_infor = r.json()\n",
        "\n",
        "    name = weather_infor['name']\n",
        "    condition = weather_infor['weather'][0]['description']\n",
        "    temperature = weather_infor['main']['temp']\n",
        "    humidity = weather_infor['main']['humidity']\n",
        "    output_str =  'City : %s \\nCondition: %s \\nTemperature : %s \\nHumidity : %s\\n' % (name, condition, temperature, humidity)\n",
        "  except:\n",
        "    output_str = \"We don't have information about this city. Please type again!\"\n",
        "  print(output_str)\n",
        "  check = input(\"Do you want to continue? : (Y/N)\")\n",
        "  if check == 'N' or check == 'n':\n",
        "    run = False\n"
      ],
      "execution_count": 2,
      "outputs": [
        {
          "output_type": "stream",
          "text": [
            "We have about 200.000 cities with the information about their current weather in the database \n",
            "\n",
            "Which city do you want to know: Tam Ky\n",
            "City : Tam Ky \n",
            "Condition: scattered clouds \n",
            "Temperature : 27 \n",
            "Humidity : 88\n",
            "\n",
            "Do you want to continue? : (Y/N)y\n",
            "We have about 200.000 cities with the information about their current weather in the database \n",
            "\n",
            "Which city do you want to know: Ho Chi Minh\n",
            "City : Ho Chi Minh City \n",
            "Condition: scattered clouds \n",
            "Temperature : 30 \n",
            "Humidity : 74\n",
            "\n",
            "Do you want to continue? : (Y/N)Y\n",
            "We have about 200.000 cities with the information about their current weather in the database \n",
            "\n",
            "Which city do you want to know: Quang NAm\n",
            "We don't have information about this city. Please type again!\n",
            "Do you want to continue? : (Y/N)Y\n",
            "We have about 200.000 cities with the information about their current weather in the database \n",
            "\n",
            "Which city do you want to know: Hoi An\n",
            "City : Hoi An \n",
            "Condition: scattered clouds \n",
            "Temperature : 27 \n",
            "Humidity : 88\n",
            "\n",
            "Do you want to continue? : (Y/N)N\n"
          ],
          "name": "stdout"
        }
      ]
    }
  ]
}