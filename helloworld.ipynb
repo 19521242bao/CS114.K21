{
  "nbformat": 4,
  "nbformat_minor": 0,
  "metadata": {
    "colab": {
      "name": "Untitled0.ipynb",
      "provenance": [],
      "authorship_tag": "ABX9TyNBCygol7VvZmJPqD/74MZx",
      "include_colab_link": true
    },
    "kernelspec": {
      "name": "python3",
      "display_name": "Python 3"
    }
  },
  "cells": [
    {
      "cell_type": "markdown",
      "metadata": {
        "id": "view-in-github",
        "colab_type": "text"
      },
      "source": [
        "<a href=\"https://colab.research.google.com/github/thinh18521442/CS114.K21/blob/master/helloworld.ipynb\" target=\"_parent\"><img src=\"https://colab.research.google.com/assets/colab-badge.svg\" alt=\"Open In Colab\"/></a>"
      ]
    },
    {
      "cell_type": "code",
      "metadata": {
        "id": "WS9HG_hv8bQP",
        "colab_type": "code",
        "outputId": "563584cf-dd56-4831-b872-4fcc63eadd32",
        "colab": {
          "base_uri": "https://localhost:8080/",
          "height": 134
        }
      },
      "source": [
        "print(\"hello, world!\")\n",
        "import random as rd\n",
        "i=5\n",
        "while i>=0:\n",
        "  d = rd.randint(5,10)\n",
        "  print(d)\n",
        "  i-=1\n"
      ],
      "execution_count": 3,
      "outputs": [
        {
          "output_type": "stream",
          "text": [
            "hello, world!\n",
            "7\n",
            "8\n",
            "9\n",
            "8\n",
            "8\n",
            "7\n"
          ],
          "name": "stdout"
        }
      ]
    }
  ]
}